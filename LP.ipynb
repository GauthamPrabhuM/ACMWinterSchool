{
  "nbformat": 4,
  "nbformat_minor": 0,
  "metadata": {
    "colab": {
      "provenance": [],
      "include_colab_link": true
    },
    "kernelspec": {
      "name": "python3",
      "display_name": "Python 3"
    },
    "language_info": {
      "name": "python"
    }
  },
  "cells": [
    {
      "cell_type": "markdown",
      "metadata": {
        "id": "view-in-github",
        "colab_type": "text"
      },
      "source": [
        "<a href=\"https://colab.research.google.com/github/GauthamPrabhuM/ACMWinterSchool/blob/main/LP.ipynb\" target=\"_parent\"><img src=\"https://colab.research.google.com/assets/colab-badge.svg\" alt=\"Open In Colab\"/></a>"
      ]
    },
    {
      "cell_type": "code",
      "execution_count": null,
      "metadata": {
        "id": "hR-ToWvg3K50"
      },
      "outputs": [],
      "source": [
        "# Necessary imports\n",
        "from gurobipy import *"
      ]
    },
    {
      "cell_type": "code",
      "source": [
        "# Define your model\n",
        "m = Model()"
      ],
      "metadata": {
        "colab": {
          "base_uri": "https://localhost:8080/"
        },
        "id": "hiwniMbL3oIn",
        "outputId": "7adce76c-0946-4d96-e4ce-96fe5c0ba4fa"
      },
      "execution_count": null,
      "outputs": [
        {
          "output_type": "stream",
          "name": "stdout",
          "text": [
            "Restricted license - for non-production use only - expires 2024-10-28\n"
          ]
        }
      ]
    },
    {
      "cell_type": "code",
      "source": [
        "# Define your variables\n",
        "x1 = m.addVar(name=\"x1\")\n",
        "x2 = m.addVar(name=\"x2\")"
      ],
      "metadata": {
        "id": "GO6JWC3n3taT"
      },
      "execution_count": null,
      "outputs": []
    },
    {
      "cell_type": "code",
      "source": [
        "# Set the objective function and Specify if you want to maximize or minimize\n",
        "m.setObjective(3*x1 + 2*x2 , GRB.MAXIMIZE)"
      ],
      "metadata": {
        "id": "MpFiZG3F3uTU"
      },
      "execution_count": null,
      "outputs": []
    },
    {
      "cell_type": "code",
      "source": [
        "# Add your constraints here\n",
        "m.addConstr(2.2*x1 + x2  <= 100, \"c1\")\n",
        "m.addConstr(x2  <= 30, \"c3\")\n",
        "m.addConstr(x1  >= 0, \"c4\")\n",
        "m.addConstr(x2  >= 0, \"c5\")"
      ],
      "metadata": {
        "colab": {
          "base_uri": "https://localhost:8080/"
        },
        "id": "22kMumlR4JuJ",
        "outputId": "e75be7fb-b6cb-43aa-abce-19aaa37b4ce1"
      },
      "execution_count": null,
      "outputs": [
        {
          "output_type": "execute_result",
          "data": {
            "text/plain": [
              "<gurobi.Constr *Awaiting Model Update*>"
            ]
          },
          "metadata": {},
          "execution_count": 9
        }
      ]
    },
    {
      "cell_type": "code",
      "source": [
        "# Run your optimization\n",
        "m.optimize()"
      ],
      "metadata": {
        "colab": {
          "base_uri": "https://localhost:8080/"
        },
        "id": "H9s1VytB4LXj",
        "outputId": "73af2bcf-f4e2-4b3a-8afe-210edc033948"
      },
      "execution_count": null,
      "outputs": [
        {
          "output_type": "stream",
          "name": "stdout",
          "text": [
            "Gurobi Optimizer version 10.0.0 build v10.0.0rc2 (linux64)\n",
            "\n",
            "CPU model: Intel(R) Xeon(R) CPU @ 2.20GHz, instruction set [SSE2|AVX|AVX2]\n",
            "Thread count: 1 physical cores, 2 logical processors, using up to 2 threads\n",
            "\n",
            "Optimize a model with 4 rows, 4 columns and 5 nonzeros\n",
            "Model fingerprint: 0x5b66b15e\n",
            "Coefficient statistics:\n",
            "  Matrix range     [1e+00, 2e+00]\n",
            "  Objective range  [2e+00, 3e+00]\n",
            "  Bounds range     [0e+00, 0e+00]\n",
            "  RHS range        [3e+01, 1e+02]\n",
            "Presolve removed 4 rows and 4 columns\n",
            "Presolve time: 0.02s\n",
            "Presolve: All rows and columns removed\n",
            "Iteration    Objective       Primal Inf.    Dual Inf.      Time\n",
            "       0    1.5545455e+02   0.000000e+00   0.000000e+00      0s\n",
            "\n",
            "Solved in 0 iterations and 0.03 seconds (0.00 work units)\n",
            "Optimal objective  1.554545455e+02\n"
          ]
        }
      ]
    },
    {
      "cell_type": "code",
      "source": [
        "# Print your results\n",
        "for v in m.getVars():\n",
        "    print(v.varName, v.x)"
      ],
      "metadata": {
        "colab": {
          "base_uri": "https://localhost:8080/"
        },
        "id": "NjawW-_f4MBi",
        "outputId": "3c1a26b4-0b88-4cb2-c31b-db179c838b34"
      },
      "execution_count": null,
      "outputs": [
        {
          "output_type": "stream",
          "name": "stdout",
          "text": [
            "x1 0.0\n",
            "x2 0.0\n",
            "x1 31.818181818181817\n",
            "x2 30.0\n"
          ]
        }
      ]
    }
  ]
}
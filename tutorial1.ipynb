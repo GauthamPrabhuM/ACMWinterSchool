{
  "nbformat": 4,
  "nbformat_minor": 0,
  "metadata": {
    "colab": {
      "provenance": [],
      "authorship_tag": "ABX9TyPLXHNVpCFzdS4LJDDzWSXw",
      "include_colab_link": true
    },
    "kernelspec": {
      "name": "python3",
      "display_name": "Python 3"
    },
    "language_info": {
      "name": "python"
    }
  },
  "cells": [
    {
      "cell_type": "markdown",
      "metadata": {
        "id": "view-in-github",
        "colab_type": "text"
      },
      "source": [
        "<a href=\"https://colab.research.google.com/github/GauthamPrabhuM/ACMWinterSchool/blob/main/tutorial1.ipynb\" target=\"_parent\"><img src=\"https://colab.research.google.com/assets/colab-badge.svg\" alt=\"Open In Colab\"/></a>"
      ]
    },
    {
      "cell_type": "code",
      "execution_count": null,
      "metadata": {
        "id": "yHZbi1rId4zk",
        "colab": {
          "base_uri": "https://localhost:8080/"
        },
        "outputId": "df1ee471-c9ea-4657-9c9d-5021b5e4ba72"
      },
      "outputs": [
        {
          "output_type": "stream",
          "name": "stdout",
          "text": [
            "Looking in indexes: https://pypi.gurobi.com, https://us-python.pkg.dev/colab-wheels/public/simple/\n",
            "Collecting gurobipy\n",
            "  Downloading gurobipy-10.0.0-cp38-cp38-manylinux2014_x86_64.whl (12.8 MB)\n",
            "\u001b[K     |████████████████████████████████| 12.8 MB 3.7 MB/s \n",
            "\u001b[?25hInstalling collected packages: gurobipy\n",
            "Successfully installed gurobipy-10.0.0\n"
          ]
        }
      ],
      "source": [
        "!python -m pip install -i https://pypi.gurobi.com gurobipy\n",
        "import gurobipy as gp"
      ]
    },
    {
      "cell_type": "code",
      "source": [
        "#step1\n",
        "m=gp.Model()"
      ],
      "metadata": {
        "id": "lWOn5hYofguO"
      },
      "execution_count": null,
      "outputs": []
    },
    {
      "cell_type": "code",
      "source": [
        "#min  X^2+Y^2 ST X+Y=1 X>=0 Y>=0 "
      ],
      "metadata": {
        "id": "mnHYRT7nfiLU"
      },
      "execution_count": null,
      "outputs": []
    },
    {
      "cell_type": "code",
      "source": [
        "x=m.addVars('x',lb=0)"
      ],
      "metadata": {
        "id": "OhwJG9EGgORQ"
      },
      "execution_count": null,
      "outputs": []
    },
    {
      "cell_type": "code",
      "source": [
        "y=m.addVars('y',lb=0)"
      ],
      "metadata": {
        "id": "wsulsMUBgawd"
      },
      "execution_count": null,
      "outputs": []
    },
    {
      "cell_type": "code",
      "source": [
        "#access the variable\n",
        "x['x']"
      ],
      "metadata": {
        "colab": {
          "base_uri": "https://localhost:8080/"
        },
        "id": "hHL4mND4glVN",
        "outputId": "4de5017c-232b-4309-dae2-3a7f25ae034f"
      },
      "execution_count": null,
      "outputs": [
        {
          "output_type": "execute_result",
          "data": {
            "text/plain": [
              "<gurobi.Var *Awaiting Model Update*>"
            ]
          },
          "metadata": {},
          "execution_count": 11
        }
      ]
    },
    {
      "cell_type": "code",
      "source": [
        "m.addConstr(x['x'] + y['y'] == 1)\n"
      ],
      "metadata": {
        "colab": {
          "base_uri": "https://localhost:8080/"
        },
        "id": "cP6GCvoMgwOT",
        "outputId": "997c8869-9247-4f70-aea7-9a75285d7470"
      },
      "execution_count": null,
      "outputs": [
        {
          "output_type": "execute_result",
          "data": {
            "text/plain": [
              "<gurobi.Constr *Awaiting Model Update*>"
            ]
          },
          "metadata": {},
          "execution_count": 12
        }
      ]
    },
    {
      "cell_type": "code",
      "source": [
        "#set objective function\n",
        "m.setObjective(x['x']**2 + y['y']**2,gp.GRB.MINIMIZE)"
      ],
      "metadata": {
        "id": "Krd9jyCLg-iH"
      },
      "execution_count": null,
      "outputs": []
    },
    {
      "cell_type": "code",
      "source": [
        "m.optimize()"
      ],
      "metadata": {
        "colab": {
          "base_uri": "https://localhost:8080/"
        },
        "id": "-aa1OHeghIdt",
        "outputId": "5469ea90-5593-4739-84e0-3f97fa94923f"
      },
      "execution_count": null,
      "outputs": [
        {
          "output_type": "stream",
          "name": "stdout",
          "text": [
            "Gurobi Optimizer version 10.0.0 build v10.0.0rc2 (linux64)\n",
            "\n",
            "CPU model: Intel(R) Xeon(R) CPU @ 2.20GHz, instruction set [SSE2|AVX|AVX2]\n",
            "Thread count: 1 physical cores, 2 logical processors, using up to 2 threads\n",
            "\n",
            "Optimize a model with 1 rows, 3 columns and 2 nonzeros\n",
            "Model fingerprint: 0xf33ce574\n",
            "Model has 2 quadratic objective terms\n",
            "Coefficient statistics:\n",
            "  Matrix range     [1e+00, 1e+00]\n",
            "  Objective range  [0e+00, 0e+00]\n",
            "  QObjective range [2e+00, 2e+00]\n",
            "  Bounds range     [0e+00, 0e+00]\n",
            "  RHS range        [1e+00, 1e+00]\n",
            "Presolve removed 0 rows and 1 columns\n",
            "Presolve time: 0.06s\n",
            "Presolved: 1 rows, 2 columns, 2 nonzeros\n",
            "Presolved model has 2 quadratic objective terms\n",
            "Ordering time: 0.00s\n",
            "\n",
            "Barrier statistics:\n",
            " AA' NZ     : 0.000e+00\n",
            " Factor NZ  : 1.000e+00\n",
            " Factor Ops : 1.000e+00 (less than 1 second per iteration)\n",
            " Threads    : 1\n",
            "\n",
            "                  Objective                Residual\n",
            "Iter       Primal          Dual         Primal    Dual     Compl     Time\n",
            "   0   5.01000500e+05 -5.01000500e+05  2.00e+03 0.00e+00  1.00e+06     0s\n",
            "   1   5.01000500e-01 -1.99650300e+03  2.00e-03 0.00e+00  1.00e+03     0s\n",
            "   2   5.00000001e-01 -1.49700400e+00  2.00e-09 0.00e+00  9.99e-01     0s\n",
            "   3   5.00000000e-01  4.98001001e-01  1.78e-15 0.00e+00  9.99e-04     0s\n",
            "   4   5.00000000e-01  4.99997999e-01  0.00e+00 0.00e+00  1.00e-06     0s\n",
            "   5   5.00000000e-01  4.99999998e-01  0.00e+00 0.00e+00  1.00e-09     0s\n",
            "\n",
            "Barrier solved model in 5 iterations and 0.10 seconds (0.00 work units)\n",
            "Optimal objective 5.00000000e-01\n",
            "\n"
          ]
        }
      ]
    },
    {
      "cell_type": "code",
      "source": [
        "x['x']"
      ],
      "metadata": {
        "colab": {
          "base_uri": "https://localhost:8080/"
        },
        "id": "GZfvS7ZHhWX4",
        "outputId": "bd8812e9-aafa-4e0c-c4ea-8a4c5cf52d1a"
      },
      "execution_count": null,
      "outputs": [
        {
          "output_type": "execute_result",
          "data": {
            "text/plain": [
              "<gurobi.Var C1 (value 0.5)>"
            ]
          },
          "metadata": {},
          "execution_count": 18
        }
      ]
    },
    {
      "cell_type": "code",
      "source": [
        "#MAX 6X+5Y ST X+Y<=5 3X+2Y<=12 X>=0 Y>=0"
      ],
      "metadata": {
        "id": "q64Fevu9hjF_"
      },
      "execution_count": null,
      "outputs": []
    },
    {
      "cell_type": "code",
      "source": [
        "m=gp.Model()"
      ],
      "metadata": {
        "id": "50T9dHUMibf2"
      },
      "execution_count": null,
      "outputs": []
    },
    {
      "cell_type": "code",
      "source": [
        "x=m.addVars('x',lb=0)"
      ],
      "metadata": {
        "id": "hIoUBLEeijCV"
      },
      "execution_count": null,
      "outputs": []
    },
    {
      "cell_type": "code",
      "source": [
        "y=m.addVars('y',lb=0)"
      ],
      "metadata": {
        "id": "DpiNnLaEilxI"
      },
      "execution_count": null,
      "outputs": []
    },
    {
      "cell_type": "code",
      "source": [
        "m.addConstr(x['x']+y['y']<=5)"
      ],
      "metadata": {
        "colab": {
          "base_uri": "https://localhost:8080/"
        },
        "id": "O9vR4PKnini2",
        "outputId": "f087d7fd-6544-4bba-e662-adbff16745c9"
      },
      "execution_count": null,
      "outputs": [
        {
          "output_type": "execute_result",
          "data": {
            "text/plain": [
              "<gurobi.Constr *Awaiting Model Update*>"
            ]
          },
          "metadata": {},
          "execution_count": 23
        }
      ]
    },
    {
      "cell_type": "code",
      "source": [
        "m.addConstr(3*x['x']+2*y['y']<=12)"
      ],
      "metadata": {
        "colab": {
          "base_uri": "https://localhost:8080/"
        },
        "id": "Uy1WVXBKiwJK",
        "outputId": "8545e60d-edc3-4864-d1ed-420c8c8319c3"
      },
      "execution_count": null,
      "outputs": [
        {
          "output_type": "execute_result",
          "data": {
            "text/plain": [
              "<gurobi.Constr *Awaiting Model Update*>"
            ]
          },
          "metadata": {},
          "execution_count": 24
        }
      ]
    },
    {
      "cell_type": "code",
      "source": [
        "m.setObjective(6*x['x']+5*y['y'],gp.GRB.MAXIMIZE)"
      ],
      "metadata": {
        "id": "GhuXJs5Oi1bv"
      },
      "execution_count": null,
      "outputs": []
    },
    {
      "cell_type": "code",
      "source": [
        "m.optimize()"
      ],
      "metadata": {
        "colab": {
          "base_uri": "https://localhost:8080/"
        },
        "id": "0n25nMCoi-pd",
        "outputId": "18815b0b-45bf-4b20-d664-0d704163d4a4"
      },
      "execution_count": null,
      "outputs": [
        {
          "output_type": "stream",
          "name": "stdout",
          "text": [
            "Gurobi Optimizer version 10.0.0 build v10.0.0rc2 (linux64)\n",
            "\n",
            "CPU model: Intel(R) Xeon(R) CPU @ 2.20GHz, instruction set [SSE2|AVX|AVX2]\n",
            "Thread count: 1 physical cores, 2 logical processors, using up to 2 threads\n",
            "\n",
            "Optimize a model with 2 rows, 2 columns and 4 nonzeros\n",
            "Model fingerprint: 0x5e701734\n",
            "Coefficient statistics:\n",
            "  Matrix range     [1e+00, 3e+00]\n",
            "  Objective range  [5e+00, 6e+00]\n",
            "  Bounds range     [0e+00, 0e+00]\n",
            "  RHS range        [5e+00, 1e+01]\n",
            "Presolve time: 0.01s\n",
            "Presolved: 2 rows, 2 columns, 4 nonzeros\n",
            "\n",
            "Iteration    Objective       Primal Inf.    Dual Inf.      Time\n",
            "       0    1.1000000e+31   3.250000e+30   1.100000e+01      0s\n",
            "       2    2.7000000e+01   0.000000e+00   0.000000e+00      0s\n",
            "\n",
            "Solved in 2 iterations and 0.04 seconds (0.00 work units)\n",
            "Optimal objective  2.700000000e+01\n"
          ]
        }
      ]
    },
    {
      "cell_type": "code",
      "source": [
        "#MAX FLOW PROBLEM"
      ],
      "metadata": {
        "id": "gsQhutkQjDMw"
      },
      "execution_count": null,
      "outputs": []
    },
    {
      "cell_type": "code",
      "source": [
        "m=gp.Model()"
      ],
      "metadata": {
        "id": "Jwh4tJLUkcQJ"
      },
      "execution_count": null,
      "outputs": []
    },
    {
      "cell_type": "code",
      "source": [
        "x=m.addVars(['sa','sd','da','dc','ac','ab','cb','ct','bt'],lb=0,ub={'sa':7, 'sd':4, 'da':3, 'dc':2,'ac':3,'ab':5,'cb':3,'ct':5,'bt':8})"
      ],
      "metadata": {
        "id": "PV-wjLqMlbeT"
      },
      "execution_count": null,
      "outputs": []
    },
    {
      "cell_type": "code",
      "source": [
        "for v in ['a','d','c','b']:\n",
        "  inflow=0\n",
        "  outflow=0\n",
        "  for e in ['sa','sd','da','dc','ac','ab','cb','ct','bt']:\n",
        "    if e[1] == v: inflow += x[e]\n",
        "    if e[0] == v: outflow+=x[e]\n",
        "  m.addConstr(inflow ==outflow)\n"
      ],
      "metadata": {
        "id": "Q6FpmWrIlhM7"
      },
      "execution_count": null,
      "outputs": []
    },
    {
      "cell_type": "code",
      "source": [
        "m.setObjective(x['sa']+x['sd'],gp.GRB.MAXIMIZE)"
      ],
      "metadata": {
        "id": "1FNhrexTlma0"
      },
      "execution_count": null,
      "outputs": []
    },
    {
      "cell_type": "code",
      "source": [
        "m.optimize()"
      ],
      "metadata": {
        "colab": {
          "base_uri": "https://localhost:8080/"
        },
        "id": "JMs9CZrXnJR6",
        "outputId": "9f46be57-7c47-479d-86ba-86994679032c"
      },
      "execution_count": null,
      "outputs": [
        {
          "output_type": "stream",
          "name": "stdout",
          "text": [
            "Gurobi Optimizer version 10.0.0 build v10.0.0rc2 (linux64)\n",
            "\n",
            "CPU model: Intel(R) Xeon(R) CPU @ 2.20GHz, instruction set [SSE2|AVX|AVX2]\n",
            "Thread count: 1 physical cores, 2 logical processors, using up to 2 threads\n",
            "\n",
            "Optimize a model with 8 rows, 19 columns and 28 nonzeros\n",
            "Coefficient statistics:\n",
            "  Matrix range     [1e+00, 1e+00]\n",
            "  Objective range  [1e+00, 1e+00]\n",
            "  Bounds range     [2e+00, 8e+00]\n",
            "  RHS range        [0e+00, 0e+00]\n",
            "Iteration    Objective       Primal Inf.    Dual Inf.      Time\n",
            "       0    1.0000000e+01   1.100000e+01   0.000000e+00      0s\n",
            "       1    1.0000000e+01   0.000000e+00   0.000000e+00      0s\n",
            "\n",
            "Solved in 1 iterations and 0.01 seconds (0.00 work units)\n",
            "Optimal objective  1.000000000e+01\n"
          ]
        }
      ]
    },
    {
      "cell_type": "code",
      "source": [
        "#vertex cover"
      ],
      "metadata": {
        "id": "btFu8j4WnNhe"
      },
      "execution_count": null,
      "outputs": []
    },
    {
      "cell_type": "code",
      "source": [
        "m=gp.Model()"
      ],
      "metadata": {
        "id": "3VmZHsWuoZ0y"
      },
      "execution_count": null,
      "outputs": []
    },
    {
      "cell_type": "code",
      "source": [
        "x=m.addVars([0,1,2,3,4,5,6,7,8,9],vtype=gp.GRB.BINARY)"
      ],
      "metadata": {
        "id": "QYvkBmxkpt_J"
      },
      "execution_count": null,
      "outputs": []
    },
    {
      "cell_type": "code",
      "source": [
        "e=[(0,1),(0,4),(1,2),(2,3),(3,4),(0,5),(1,6),(2,7),(3,8),(4,9),(5,7),(5,8),(6,9),(6,8),(7,9)] "
      ],
      "metadata": {
        "id": "G2miekIvr4kE"
      },
      "execution_count": null,
      "outputs": []
    },
    {
      "cell_type": "code",
      "source": [
        "for i, j in e:\n",
        "  m.addConstr(x[i]+x[j]>=1)"
      ],
      "metadata": {
        "id": "Zeg7ouOMoapZ"
      },
      "execution_count": null,
      "outputs": []
    },
    {
      "cell_type": "code",
      "source": [
        "s=0\n",
        "for i in range(10):\n",
        "  s+=x[i]"
      ],
      "metadata": {
        "id": "60wpO4z8rtaj"
      },
      "execution_count": null,
      "outputs": []
    },
    {
      "cell_type": "code",
      "source": [
        "m.setObjective(s,gp.GRB.MINIMIZE)"
      ],
      "metadata": {
        "id": "XeC4YGwyt27V"
      },
      "execution_count": null,
      "outputs": []
    },
    {
      "cell_type": "code",
      "source": [
        "m.optimize()"
      ],
      "metadata": {
        "colab": {
          "base_uri": "https://localhost:8080/"
        },
        "id": "8WbSNlpKt8P3",
        "outputId": "97f09eaa-a080-44c1-d2f6-9b7b6b55dc3d"
      },
      "execution_count": null,
      "outputs": [
        {
          "output_type": "stream",
          "name": "stdout",
          "text": [
            "Gurobi Optimizer version 10.0.0 build v10.0.0rc2 (linux64)\n",
            "\n",
            "CPU model: Intel(R) Xeon(R) CPU @ 2.20GHz, instruction set [SSE2|AVX|AVX2]\n",
            "Thread count: 1 physical cores, 2 logical processors, using up to 2 threads\n",
            "\n",
            "Optimize a model with 15 rows, 20 columns and 30 nonzeros\n",
            "Model fingerprint: 0x71677b47\n",
            "Variable types: 0 continuous, 20 integer (20 binary)\n",
            "Coefficient statistics:\n",
            "  Matrix range     [1e+00, 1e+00]\n",
            "  Objective range  [1e+00, 1e+00]\n",
            "  Bounds range     [1e+00, 1e+00]\n",
            "  RHS range        [1e+00, 1e+00]\n",
            "Found heuristic solution: objective 7.0000000\n",
            "Presolve removed 0 rows and 10 columns\n",
            "Presolve time: 0.01s\n",
            "Presolved: 15 rows, 10 columns, 30 nonzeros\n",
            "Variable types: 0 continuous, 10 integer (10 binary)\n",
            "\n",
            "Root relaxation: objective 5.000000e+00, 12 iterations, 0.00 seconds (0.00 work units)\n",
            "\n",
            "    Nodes    |    Current Node    |     Objective Bounds      |     Work\n",
            " Expl Unexpl |  Obj  Depth IntInf | Incumbent    BestBd   Gap | It/Node Time\n",
            "\n",
            "     0     0    5.00000    0   10    7.00000    5.00000  28.6%     -    0s\n",
            "H    0     0                       6.0000000    5.00000  16.7%     -    0s\n",
            "\n",
            "Cutting planes:\n",
            "  Zero half: 1\n",
            "\n",
            "Explored 1 nodes (15 simplex iterations) in 0.21 seconds (0.00 work units)\n",
            "Thread count was 2 (of 2 available processors)\n",
            "\n",
            "Solution count 2: 6 7 \n",
            "\n",
            "Optimal solution found (tolerance 1.00e-04)\n",
            "Best objective 6.000000000000e+00, best bound 6.000000000000e+00, gap 0.0000%\n"
          ]
        }
      ]
    },
    {
      "cell_type": "code",
      "source": [],
      "metadata": {
        "id": "O0TVqNY5uA8r"
      },
      "execution_count": null,
      "outputs": []
    }
  ]
}